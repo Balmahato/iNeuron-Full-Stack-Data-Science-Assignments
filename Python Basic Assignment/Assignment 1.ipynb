{
 "cells": [
  {
   "cell_type": "markdown",
   "id": "93bc9bf8",
   "metadata": {},
   "source": [
    "# 1 In  the below element which of them are values or an expreession? eg:- values can be integer or string and expressions will be mathematical operators\n",
    "*,'hello', -87.8,-,/,+,6\n"
   ]
  },
  {
   "cell_type": "markdown",
   "id": "ce3da767",
   "metadata": {},
   "source": [
    "Ans - There are a total of 4 Operators and 3 Expression They are:\n",
    "\n",
    "\n",
    "\n",
    "Operators:- *, -, / , +\n",
    "\n",
    "\n",
    "Expression:- 'hello', 87.8, 6 "
   ]
  },
  {
   "cell_type": "markdown",
   "id": "ad07c654",
   "metadata": {},
   "source": [
    "# 2  What is  the difference between string and variable?"
   ]
  },
  {
   "cell_type": "markdown",
   "id": "12ec468b",
   "metadata": {},
   "source": [
    "Ans:- A Variable is used to store of infromation and a String is a type of infromation you would store in a variable. A String is a group of characters or a single character usually enclosed in Double quotes \"\" or single quotes' '"
   ]
  },
  {
   "cell_type": "markdown",
   "id": "604bed2c",
   "metadata": {},
   "source": [
    "# 3  Describe three different Data Type?"
   ]
  },
  {
   "cell_type": "markdown",
   "id": "6b217295",
   "metadata": {},
   "source": [
    "Ans:- Three fundamental  Data type to represent whole numbers(integral values)"
   ]
  },
  {
   "cell_type": "raw",
   "id": "b3de9aa2",
   "metadata": {},
   "source": [
    "1  int data type : We can use int data type to represent whole numbers(integral values)\n",
    "\n",
    "2  flot data type : We can use flot data to represent floting point values (decimal values)\n",
    "\n",
    "3 comples data type: Comples number is represented by complex class. it is specified as (real part)+(imaginary part)"
   ]
  },
  {
   "cell_type": "code",
   "execution_count": 6,
   "id": "ff399483",
   "metadata": {},
   "outputs": [
    {
     "name": "stdout",
     "output_type": "stream",
     "text": [
      "2564 <class 'int'>\n",
      "56000.0 <class 'float'>\n",
      "(100+1.5j) <class 'complex'>\n"
     ]
    }
   ],
   "source": [
    "# Example for int data type\n",
    "int_num = 2564\n",
    "print(int_num, type(int_num))\n",
    "# Example for float data type\n",
    "flo_num = 5.6e4\n",
    "print(flo_num, type(flo_num))\n",
    "#Example for Complex data type\n",
    "com_num = 100+1.5j\n",
    "print(com_num, type(com_num))"
   ]
  },
  {
   "cell_type": "markdown",
   "id": "0ee1d198",
   "metadata": {},
   "source": [
    "# 4  What is an expression made up of? What do all expressions do?"
   ]
  },
  {
   "cell_type": "markdown",
   "id": "3e74c562",
   "metadata": {},
   "source": [
    "Ans:- An expression is a combination of values, variables, operators, and calls to functions. Expressions need to be evaluated. If we ask Python to print an expression, the interpreter evaluates the expression and displays the result."
   ]
  },
  {
   "cell_type": "code",
   "execution_count": 7,
   "id": "5d69c293",
   "metadata": {},
   "outputs": [
    {
     "data": {
      "text/plain": [
       "0"
      ]
     },
     "execution_count": 7,
     "metadata": {},
     "output_type": "execute_result"
    }
   ],
   "source": [
    "4*5+20-40 # Is an Expression, The Python Interpreter Evaluates it to 0"
   ]
  },
  {
   "cell_type": "markdown",
   "id": "0bf052f2",
   "metadata": {},
   "source": [
    "# 5 This assignment statements, like spam = 10. What is the difference between an expression and a statement?"
   ]
  },
  {
   "cell_type": "markdown",
   "id": "501c5403",
   "metadata": {},
   "source": [
    "Ans:- An expression is a combination of values, variables, and operators.When we type an expression at the prompt, the interpreter evaluates it, which means that it finds the value of the expression."
   ]
  },
  {
   "cell_type": "markdown",
   "id": "827ef832",
   "metadata": {},
   "source": [
    "eg: 4*5+20-40 is an example of a statement"
   ]
  },
  {
   "cell_type": "markdown",
   "id": "f2b63775",
   "metadata": {},
   "source": [
    "A statement is a unit of code that has an effect, like creating a variable or displaying a value.When we type a statement, the interpreter executes it, which means that it does whatever the statement says. In general, statements don’t have values."
   ]
  },
  {
   "cell_type": "markdown",
   "id": "64bf5fd5",
   "metadata": {},
   "source": [
    "eg: variable declaration and assignment are statements because they do not return a value"
   ]
  },
  {
   "cell_type": "code",
   "execution_count": 8,
   "id": "48229d4e",
   "metadata": {},
   "outputs": [
    {
     "name": "stdout",
     "output_type": "stream",
     "text": [
      "Hello World !\n"
     ]
    }
   ],
   "source": [
    "#Example:\n",
    "4*5+20-40 # Is a Expression\n",
    "courseName = 'INeuron FullStack DataScience' # Is a Statement\n",
    "print(\"Hello World !\") # Is a Expression Statement"
   ]
  },
  {
   "cell_type": "markdown",
   "id": "083401da",
   "metadata": {},
   "source": [
    "# 6 After running the following code, what does the variable bacon contain?"
   ]
  },
  {
   "cell_type": "markdown",
   "id": "d25a23aa",
   "metadata": {},
   "source": [
    "bacon = 22\n",
    "\n",
    "\n",
    "bacon + 1"
   ]
  },
  {
   "cell_type": "markdown",
   "id": "c0a79c9f",
   "metadata": {},
   "source": [
    "Ans: The variable bacon is set to 22 .The expression bacon + 1 does not reassign the value in bacon (that would the case if the expression is like bacon = bacon + 1 instead of bacon + 1)"
   ]
  },
  {
   "cell_type": "code",
   "execution_count": 10,
   "id": "dce55d23",
   "metadata": {},
   "outputs": [
    {
     "name": "stdout",
     "output_type": "stream",
     "text": [
      "22\n"
     ]
    }
   ],
   "source": [
    "# Example Case#1\n",
    "bacon=22\n",
    "bacon+1\n",
    "print(bacon)"
   ]
  },
  {
   "cell_type": "code",
   "execution_count": 11,
   "id": "7cc0d486",
   "metadata": {},
   "outputs": [
    {
     "name": "stdout",
     "output_type": "stream",
     "text": [
      "23\n"
     ]
    }
   ],
   "source": [
    "#Example Case#2\n",
    "bacon=22\n",
    "bacon=bacon+1 \n",
    "print(bacon)"
   ]
  },
  {
   "cell_type": "markdown",
   "id": "2daee0be",
   "metadata": {},
   "source": [
    "# 7 .What should the values of the following two terms be?"
   ]
  },
  {
   "cell_type": "markdown",
   "id": "232b2bba",
   "metadata": {},
   "source": [
    "'spam'+'spamspam'\n",
    "\n",
    "\n",
    "'spam'*3"
   ]
  },
  {
   "cell_type": "markdown",
   "id": "7d519e29",
   "metadata": {},
   "source": [
    "Ans: Both expressions evaluate to the string 'spamspamspam' Where as the first expression follows String Concatentation and the second expression follows String Multiplication"
   ]
  },
  {
   "cell_type": "code",
   "execution_count": 12,
   "id": "161a1316",
   "metadata": {},
   "outputs": [
    {
     "name": "stdout",
     "output_type": "stream",
     "text": [
      "spamspamspam\n",
      "spamspamspam\n"
     ]
    }
   ],
   "source": [
    "print('spam'+'spamspam') # string concatenation\n",
    "print('spam'*3) # string multiplication"
   ]
  },
  {
   "cell_type": "markdown",
   "id": "2483a597",
   "metadata": {},
   "source": [
    "# 8 Why is eggs a valid variable name while 100 is invalid?"
   ]
  },
  {
   "cell_type": "markdown",
   "id": "2a1a1860",
   "metadata": {},
   "source": [
    "Ans: As per python,Variable names cannot begin with a number. The python rules for naming a variable are :-"
   ]
  },
  {
   "cell_type": "markdown",
   "id": "3eec66cd",
   "metadata": {},
   "source": [
    "1 Variable name must start with a letter or the underscore character.\n",
    "\n",
    "2 Variable name cannot start with a number.\n",
    "\n",
    "3 Variable name can only contain alpha-numeric characters and underscores (A-z, 0-9, & _ ).\n",
    "\n",
    "4 Variable names are case-sensitive (name, INEURON and ineuron are three different variables).\n",
    "\n",
    "5 The reserved words(keywords) cannot be used naming the variable."
   ]
  },
  {
   "cell_type": "code",
   "execution_count": 14,
   "id": "1d13fbcc",
   "metadata": {},
   "outputs": [
    {
     "name": "stdout",
     "output_type": "stream",
     "text": [
      "Ineuron\n",
      "hello\n"
     ]
    }
   ],
   "source": [
    "egg='Ineuron' # Valid variable Initilization\n",
    "var_100='hello' # Valid Variable Initialization\n",
    "print(egg) #prints the value of egg ie Ineuron\n",
    "print(var_100) #prints the value of var_100 ie hello"
   ]
  },
  {
   "cell_type": "markdown",
   "id": "81a7d48d",
   "metadata": {},
   "source": [
    "# 9 What three functions can be used to get the integer,floating-point number,or string version of a value?"
   ]
  },
  {
   "cell_type": "markdown",
   "id": "a6db031a",
   "metadata": {},
   "source": [
    "Ans: The int(),float(),and str() functions will evaluate to the integer,floating-point number,string version of the value passed to them."
   ]
  },
  {
   "cell_type": "code",
   "execution_count": 15,
   "id": "b178fb05",
   "metadata": {},
   "outputs": [
    {
     "name": "stdout",
     "output_type": "stream",
     "text": [
      "int(10.0) ->  10\n",
      "float(10) ->  10.0\n",
      "str(10) ->  10\n"
     ]
    }
   ],
   "source": [
    "# Examples:\n",
    "print('int(10.0) -> ',int(10.0)) # int() function converts given input to int\n",
    "print('float(10) -> ',float(10)) # float() function converts given input to float\n",
    "print('str(10) -> ',str(10)) # str() function converts given input to string"
   ]
  },
  {
   "cell_type": "markdown",
   "id": "05bb1093",
   "metadata": {},
   "source": [
    "# 10 Why does this expression cause an error? how can you fix it?"
   ]
  },
  {
   "cell_type": "markdown",
   "id": "74ce3d05",
   "metadata": {},
   "source": [
    "'I have eaten ' + 99 + 'burritos.'"
   ]
  },
  {
   "cell_type": "markdown",
   "id": "c94a23c5",
   "metadata": {},
   "source": [
    "Ans: This cause of error is 99.because 99 is not a string. 99 must be typecasted to a string to fix this error. the correct way is:"
   ]
  },
  {
   "cell_type": "markdown",
   "id": "ce311acb",
   "metadata": {},
   "source": [
    "Input: 'I have eaten ' + str(99) + 'burritos.'"
   ]
  },
  {
   "cell_type": "markdown",
   "id": "7223ea17",
   "metadata": {},
   "source": [
    "Output: 'I have eaten 99 burritos.'"
   ]
  },
  {
   "cell_type": "code",
   "execution_count": 17,
   "id": "dc32e7fd",
   "metadata": {},
   "outputs": [
    {
     "name": "stdout",
     "output_type": "stream",
     "text": [
      "I have eaten 99 burritos\n"
     ]
    }
   ],
   "source": [
    "print('I have eaten '+str(99)+' burritos')"
   ]
  },
  {
   "cell_type": "code",
   "execution_count": null,
   "id": "166060d0",
   "metadata": {},
   "outputs": [],
   "source": []
  }
 ],
 "metadata": {
  "kernelspec": {
   "display_name": "Python 3 (ipykernel)",
   "language": "python",
   "name": "python3"
  },
  "language_info": {
   "codemirror_mode": {
    "name": "ipython",
    "version": 3
   },
   "file_extension": ".py",
   "mimetype": "text/x-python",
   "name": "python",
   "nbconvert_exporter": "python",
   "pygments_lexer": "ipython3",
   "version": "3.9.12"
  }
 },
 "nbformat": 4,
 "nbformat_minor": 5
}
